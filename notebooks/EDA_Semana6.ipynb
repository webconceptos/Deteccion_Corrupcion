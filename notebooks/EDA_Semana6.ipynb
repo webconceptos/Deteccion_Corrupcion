{
 "cells": [
  {
   "cell_type": "code",
   "execution_count": null,
   "id": "0bc5410f",
   "metadata": {},
   "outputs": [],
   "source": [
    "# En el notebook\n",
    "import pandas as pd, matplotlib.pyplot as plt\n",
    "from IPython.display import Image, display\n",
    "\n",
    "display(Image(\"reports/figures/sem6_feature_importance.png\"))\n",
    "display(Image(\"reports/figures/sem6_calibration_curve.png\"))\n",
    "display(Image(\"reports/figures/sem6_learning_curve.png\"))\n",
    "display(Image(\"reports/figures/sem6_shap_summary.png\"))\n"
   ]
  },
  {
   "cell_type": "code",
   "execution_count": null,
   "id": "6c1d1ae7",
   "metadata": {},
   "outputs": [],
   "source": [
    "print(\"Conclusión final: El modelo es interpretable, calibrado y escalable al despliegue FastAPI/Docker.\")\n"
   ]
  }
 ],
 "metadata": {
  "language_info": {
   "name": "python"
  }
 },
 "nbformat": 4,
 "nbformat_minor": 5
}
